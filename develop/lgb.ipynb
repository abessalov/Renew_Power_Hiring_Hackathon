{
 "cells": [
  {
   "cell_type": "code",
   "execution_count": 1,
   "metadata": {},
   "outputs": [],
   "source": [
    "time_start = dt.now()"
   ]
  },
  {
   "cell_type": "markdown",
   "metadata": {
    "tags": []
   },
   "source": [
    "### Functions"
   ]
  },
  {
   "cell_type": "code",
   "execution_count": 2,
   "metadata": {},
   "outputs": [],
   "source": [
    "def ts_metrics(y_true, y_pred):\n",
    "    return {\n",
    "        'mae': metrics.mean_absolute_error(y_true, y_pred),\n",
    "        'mse': metrics.mean_squared_error(y_true, y_pred),\n",
    "        'mape': np.mean(np.abs((y_true - y_pred) / y_true)),\n",
    "        'smape': np.mean(np.abs( 2*(y_true - y_pred) / (y_true+np.abs(y_pred)))),\n",
    "    }"
   ]
  },
  {
   "cell_type": "markdown",
   "metadata": {},
   "source": [
    "### 1. Prepare dataset"
   ]
  },
  {
   "cell_type": "code",
   "execution_count": 3,
   "metadata": {},
   "outputs": [],
   "source": [
    "# read train dataset\n",
    "df1 = pd.read_csv('data/train.csv')\n",
    "df1['row_id'] = range(len(df1))\n",
    "\n",
    "# read test dataset\n",
    "df2 = pd.read_csv('data/new/test.csv')\n",
    "df2['row_id'] = range(len(df2))\n",
    "df2['row_id'] = df2['row_id']  + 1000000\n",
    "\n",
    "# merge\n",
    "df = pd.concat([df1,df2])\n",
    "del df1,df2\n",
    "gc.collect()\n",
    "\n",
    "# add fold for splitting\n",
    "np.random.seed(1234)\n",
    "df['fold'] = np.random.randint(0,3,len(df))\n",
    "# drop some features\n",
    "feats_drop = ['timestamp','active_power_calculated_by_converter','reactice_power_calculated_by_converter']\n",
    "for f in feats_drop:\n",
    "    if f in df.columns:\n",
    "        del df[f]\n",
    "# label encoder of categorical feats\n",
    "feats_cat = ['turbine_id']\n",
    "list_lbl  = []\n",
    "for f in feats_cat:\n",
    "    lbl = preprocessing.LabelEncoder()\n",
    "    df[f] = lbl.fit_transform(df[f])\n",
    "    list_lbl.append(lbl)"
   ]
  },
  {
   "cell_type": "code",
   "execution_count": 4,
   "metadata": {},
   "outputs": [
    {
     "name": "stdout",
     "output_type": "stream",
     "text": [
      "0 Turbine_01\n",
      "1 Turbine_10\n",
      "2 Turbine_103\n",
      "3 Turbine_105\n",
      "4 Turbine_108\n",
      "5 Turbine_120\n",
      "6 Turbine_123\n",
      "7 Turbine_13\n",
      "8 Turbine_139\n",
      "9 Turbine_14\n",
      "10 Turbine_15\n",
      "11 Turbine_158\n",
      "12 Turbine_18\n",
      "13 Turbine_19\n",
      "14 Turbine_20\n",
      "15 Turbine_97\n"
     ]
    }
   ],
   "source": [
    "for i,l in enumerate(lbl.classes_):\n",
    "    print(i, l)"
   ]
  },
  {
   "cell_type": "code",
   "execution_count": 5,
   "metadata": {},
   "outputs": [],
   "source": [
    "feats_used = [    \n",
    "    \"turbine_id\",\n",
    "    \n",
    "    \"active_power_raw\",\n",
    "    \"ambient_temperature\",\n",
    "    \"generator_speed\",\n",
    "    \"generator_winding_temp_max\",\n",
    "    \"grid_power10min_average\",\n",
    "    \"nc1_inside_temp\",\n",
    "    \"nacelle_temp\",\n",
    "    \"reactive_power\",\n",
    "    \"wind_direction_raw\",\n",
    "    \"wind_speed_raw\",\n",
    "    \"wind_speed_turbulence\",\n",
    "  \n",
    "]"
   ]
  },
  {
   "cell_type": "markdown",
   "metadata": {},
   "source": [
    "### 2. Training"
   ]
  },
  {
   "cell_type": "code",
   "execution_count": 6,
   "metadata": {},
   "outputs": [
    {
     "name": "stdout",
     "output_type": "stream",
     "text": [
      "(606820, 12) (302784, 12) (303202, 12)\n"
     ]
    },
    {
     "data": {
      "text/html": [
       "<div>\n",
       "<style scoped>\n",
       "    .dataframe tbody tr th:only-of-type {\n",
       "        vertical-align: middle;\n",
       "    }\n",
       "\n",
       "    .dataframe tbody tr th {\n",
       "        vertical-align: top;\n",
       "    }\n",
       "\n",
       "    .dataframe thead th {\n",
       "        text-align: right;\n",
       "    }\n",
       "</style>\n",
       "<table border=\"1\" class=\"dataframe\">\n",
       "  <thead>\n",
       "    <tr style=\"text-align: right;\">\n",
       "      <th></th>\n",
       "      <th>turbine_id</th>\n",
       "      <th>active_power_raw</th>\n",
       "      <th>ambient_temperature</th>\n",
       "      <th>generator_speed</th>\n",
       "      <th>generator_winding_temp_max</th>\n",
       "      <th>grid_power10min_average</th>\n",
       "      <th>nc1_inside_temp</th>\n",
       "      <th>nacelle_temp</th>\n",
       "      <th>reactive_power</th>\n",
       "      <th>wind_direction_raw</th>\n",
       "      <th>wind_speed_raw</th>\n",
       "      <th>wind_speed_turbulence</th>\n",
       "    </tr>\n",
       "  </thead>\n",
       "  <tbody>\n",
       "    <tr>\n",
       "      <th>0</th>\n",
       "      <td>4</td>\n",
       "      <td>834.92</td>\n",
       "      <td>31.69</td>\n",
       "      <td>1,159.62</td>\n",
       "      <td>65.95</td>\n",
       "      <td>917.90</td>\n",
       "      <td>31.88</td>\n",
       "      <td>31.50</td>\n",
       "      <td>165.50</td>\n",
       "      <td>280.86</td>\n",
       "      <td>7.06</td>\n",
       "      <td>0.54</td>\n",
       "    </tr>\n",
       "    <tr>\n",
       "      <th>1</th>\n",
       "      <td>12</td>\n",
       "      <td>421.05</td>\n",
       "      <td>12.89</td>\n",
       "      <td>928.75</td>\n",
       "      <td>59.57</td>\n",
       "      <td>445.55</td>\n",
       "      <td>32.42</td>\n",
       "      <td>32.76</td>\n",
       "      <td>113.84</td>\n",
       "      <td>299.55</td>\n",
       "      <td>5.47</td>\n",
       "      <td>0.47</td>\n",
       "    </tr>\n",
       "    <tr>\n",
       "      <th>5</th>\n",
       "      <td>10</td>\n",
       "      <td>620.64</td>\n",
       "      <td>28.06</td>\n",
       "      <td>955.60</td>\n",
       "      <td>60.88</td>\n",
       "      <td>697.72</td>\n",
       "      <td>31.01</td>\n",
       "      <td>31.05</td>\n",
       "      <td>75.78</td>\n",
       "      <td>229.57</td>\n",
       "      <td>6.03</td>\n",
       "      <td>0.78</td>\n",
       "    </tr>\n",
       "  </tbody>\n",
       "</table>\n",
       "</div>"
      ],
      "text/plain": [
       "   turbine_id  active_power_raw  ambient_temperature  generator_speed  \\\n",
       "0           4            834.92                31.69         1,159.62   \n",
       "1          12            421.05                12.89           928.75   \n",
       "5          10            620.64                28.06           955.60   \n",
       "\n",
       "   generator_winding_temp_max  grid_power10min_average  nc1_inside_temp  \\\n",
       "0                       65.95                   917.90            31.88   \n",
       "1                       59.57                   445.55            32.42   \n",
       "5                       60.88                   697.72            31.01   \n",
       "\n",
       "   nacelle_temp  reactive_power  wind_direction_raw  wind_speed_raw  \\\n",
       "0         31.50          165.50              280.86            7.06   \n",
       "1         32.76          113.84              299.55            5.47   \n",
       "5         31.05           75.78              229.57            6.03   \n",
       "\n",
       "   wind_speed_turbulence  \n",
       "0                   0.54  \n",
       "1                   0.47  \n",
       "5                   0.78  "
      ]
     },
     "execution_count": 6,
     "metadata": {},
     "output_type": "execute_result"
    }
   ],
   "source": [
    "# Sets creation\n",
    "feat_target = 'Target'\n",
    "\n",
    "filt_fold  = df.fold == 0\n",
    "filt_null  = df[feat_target].isnull()\n",
    "\n",
    "filt_train = ~filt_fold & ~filt_null\n",
    "filt_valid = filt_fold & ~filt_null\n",
    "filt_test  = filt_null\n",
    "\n",
    "x, y   = df[filt_train][feats_used], df[filt_train][feat_target]\n",
    "xv, yv = df[filt_valid][feats_used], df[filt_valid][feat_target]\n",
    "xt, yt = df[filt_test][feats_used],  df[filt_test][feat_target]\n",
    "\n",
    "print(x.shape, xv.shape, xt.shape)\n",
    "\n",
    "del df\n",
    "gc.collect()\n",
    "x[:3]"
   ]
  },
  {
   "cell_type": "code",
   "execution_count": 7,
   "metadata": {},
   "outputs": [],
   "source": [
    "# Training process\n",
    "import lightgbm as lgb\n",
    "\n",
    "x_ = lgb.Dataset(x.values, \n",
    "                label = y, \n",
    "                feature_name = feats_used,\n",
    "                categorical_feature = feats_cat,\n",
    "                free_raw_data=False)\n",
    "xv_ = lgb.Dataset(xv.values, \n",
    "                label = yv, \n",
    "                feature_name = feats_used,\n",
    "                categorical_feature = feats_cat,\n",
    "                free_raw_data=False)\n",
    "xt_ = lgb.Dataset(xt.values, \n",
    "                label = yt, \n",
    "                feature_name = feats_used,\n",
    "                categorical_feature = feats_cat,\n",
    "                free_raw_data=False)"
   ]
  },
  {
   "cell_type": "code",
   "execution_count": 8,
   "metadata": {
    "tags": []
   },
   "outputs": [
    {
     "name": "stdout",
     "output_type": "stream",
     "text": [
      "[LightGBM] [Warning] Auto-choosing col-wise multi-threading, the overhead of testing was 0.018085 seconds.\n",
      "You can set `force_col_wise=true` to remove the overhead.\n",
      "Training until validation scores don't improve for 50 rounds\n",
      "[1000]\ttrain's l2: 1.02769\tvalid's l2: 1.32778\n",
      "[2000]\ttrain's l2: 0.786776\tvalid's l2: 1.1972\n",
      "[3000]\ttrain's l2: 0.642466\tvalid's l2: 1.12987\n",
      "[4000]\ttrain's l2: 0.549062\tvalid's l2: 1.09768\n",
      "[5000]\ttrain's l2: 0.480103\tvalid's l2: 1.07858\n",
      "[6000]\ttrain's l2: 0.423338\tvalid's l2: 1.06411\n",
      "[7000]\ttrain's l2: 0.375715\tvalid's l2: 1.05369\n",
      "[8000]\ttrain's l2: 0.33666\tvalid's l2: 1.04601\n",
      "[9000]\ttrain's l2: 0.30207\tvalid's l2: 1.03954\n",
      "[10000]\ttrain's l2: 0.270745\tvalid's l2: 1.03301\n",
      "[11000]\ttrain's l2: 0.244288\tvalid's l2: 1.02847\n",
      "[12000]\ttrain's l2: 0.219763\tvalid's l2: 1.02343\n",
      "[13000]\ttrain's l2: 0.199635\tvalid's l2: 1.02012\n",
      "[14000]\ttrain's l2: 0.18103\tvalid's l2: 1.01711\n",
      "Early stopping, best iteration is:\n",
      "[14794]\ttrain's l2: 0.16804\tvalid's l2: 1.0147\n"
     ]
    }
   ],
   "source": [
    "params = {\n",
    "    'boosting_type': 'gbdt',\n",
    "    'objective': 'regression',\n",
    "\n",
    "    'learning_rate': 0.1,\n",
    "    'num_boost_round': 20000,\n",
    "    'early_stopping_rounds': 50,\n",
    "\n",
    "    'nthread': -1,\n",
    "    'verbose': 0,\n",
    "\n",
    "    # fitting params\n",
    "    'boost_from_average': True,\n",
    "    'scale_pos_weight': 1,\n",
    "    \n",
    "    'max_bin': 255,\n",
    "    \n",
    "    'num_leaves': 63,\n",
    "    'max_depth': -1,\n",
    "    'min_child_samples': 20,\n",
    "    'min_child_weight': 1e-3,\n",
    "    'min_split_gain': 0,\n",
    "\n",
    "    'subsample': 1,\n",
    "    'colsample_bytree': 1,\n",
    "\n",
    "    'reg_alpha': 0, \n",
    "    'reg_lambda': 0,\n",
    "\n",
    "}\n",
    "\n",
    "evals_results = {}\n",
    "model_lgb     = lgb.train(params,\n",
    "                        x_,\n",
    "                        valid_sets=[x_, xv_ ], \n",
    "                        valid_names=['train', 'valid'], \n",
    "                        evals_result=evals_results, \n",
    "                        verbose_eval=1000, \n",
    "                        feval=None)"
   ]
  },
  {
   "cell_type": "code",
   "execution_count": 13,
   "metadata": {},
   "outputs": [
    {
     "data": {
      "image/png": "[encoded data removed]",
      "text/plain": [
       "<Figure size 360x216 with 1 Axes>"
      ]
     },
     "metadata": {},
     "output_type": "display_data"
    }
   ],
   "source": [
    "plt.style.use('seaborn')\n",
    "p = pd.DataFrame(dict([(k,evals_results[k]['l2']) for k in evals_results])).plot(figsize = (5,3))"
   ]
  },
  {
   "cell_type": "code",
   "execution_count": 18,
   "metadata": {},
   "outputs": [
    {
     "data": {
      "image/png": "[encoded data removed]",
      "text/plain": [
       "<Figure size 216x360 with 1 Axes>"
      ]
     },
     "metadata": {},
     "output_type": "display_data"
    }
   ],
   "source": [
    "# feature importances\n",
    "df_imp = pd.Series(model_lgb.feature_importance(), index = feats_used)\n",
    "df_imp = df_imp/sum(df_imp)\n",
    "df_imp = df_imp.reset_index()\n",
    "df_imp.rename(columns={'index':'feat',0:'imp'}, inplace = True)\n",
    "df_imp = df_imp.sort_values(by = 'imp')\n",
    "p = df_imp.set_index('feat').imp.plot(kind = 'barh', figsize = (3,5), )"
   ]
  },
  {
   "cell_type": "code",
   "execution_count": 10,
   "metadata": {},
   "outputs": [
    {
     "data": {
      "text/plain": [
       "{'mae': 0.6733913703115109,\n",
       " 'mse': 1.0146970031530622,\n",
       " 'mape': 0.014452175036187332,\n",
       " 'smape': 0.014418921763465497}"
      ]
     },
     "execution_count": 10,
     "metadata": {},
     "output_type": "execute_result"
    }
   ],
   "source": [
    "pred = model_lgb.predict(xv)\n",
    "ts_metrics(yv, pred)"
   ]
  },
  {
   "cell_type": "code",
   "execution_count": 11,
   "metadata": {},
   "outputs": [],
   "source": [
    "# predictions\n",
    "df_out = pd.DataFrame({\n",
    "    'Target': pred\n",
    "})\n",
    "df_out.to_csv('output/valid_lgb.csv', index = False, sep = ',')\n",
    "\n",
    "df_out = pd.DataFrame({\n",
    "    'Target': model_lgb.predict(xt)\n",
    "})\n",
    "df_out.to_csv('output/main_lgb.csv', index = False, sep = ',')"
   ]
  },
  {
   "cell_type": "code",
   "execution_count": 12,
   "metadata": {},
   "outputs": [
    {
     "name": "stdout",
     "output_type": "stream",
     "text": [
      "Working time:  0:06:32.630843\n"
     ]
    }
   ],
   "source": [
    "print('Working time: ', dt.now() - time_start) "
   ]
  }
 ],
 "metadata": {
  "kernelspec": {
   "display_name": "Python 3",
   "language": "python",
   "name": "python3"
  },
  "language_info": {
   "codemirror_mode": {
    "name": "ipython",
    "version": 3
   },
   "file_extension": ".py",
   "mimetype": "text/x-python",
   "name": "python",
   "nbconvert_exporter": "python",
   "pygments_lexer": "ipython3",
   "version": "3.8.5"
  }
 },
 "nbformat": 4,
 "nbformat_minor": 4
}
