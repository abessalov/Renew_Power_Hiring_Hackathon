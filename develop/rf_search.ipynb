{
 "cells": [
  {
   "cell_type": "markdown",
   "metadata": {},
   "source": [
    "### Random forest best parameters searching\n",
    "- train separately for each turbine_id\n",
    "- max_depth"
   ]
  },
  {
   "cell_type": "code",
   "execution_count": 1,
   "metadata": {},
   "outputs": [],
   "source": [
    "from sklearn import ensemble\n",
    "plt.style.use('seaborn')\n",
    "pd.options.display.float_format = '{:,.5f}'.format"
   ]
  },
  {
   "cell_type": "code",
   "execution_count": 2,
   "metadata": {},
   "outputs": [],
   "source": [
    "time_start = dt.now()"
   ]
  },
  {
   "cell_type": "code",
   "execution_count": 3,
   "metadata": {},
   "outputs": [],
   "source": [
    "# read train dataset\n",
    "df1 = pd.read_csv('data/train.csv')\n",
    "df1['row_id'] = range(len(df1))\n",
    "\n",
    "# read test dataset\n",
    "df2 = pd.read_csv('data/new/test.csv')\n",
    "df2['row_id'] = range(len(df2))\n",
    "df2['row_id'] = df2['row_id']  + 1000000\n",
    "\n",
    "# merge\n",
    "df = pd.concat([df1,df2])\n",
    "del df1,df2\n",
    "gc.collect()\n",
    "\n",
    "# add fold for splitting\n",
    "np.random.seed(1234)\n",
    "df['fold'] = np.random.randint(0,3,len(df))\n",
    "# drop some features\n",
    "feats_drop = ['timestamp','active_power_calculated_by_converter','reactice_power_calculated_by_converter']\n",
    "for f in feats_drop:\n",
    "    if f in df.columns:\n",
    "        del df[f]\n",
    "# label encoder of categorical feats\n",
    "feats_cat = ['turbine_id']\n",
    "list_lbl  = []\n",
    "for f in feats_cat:\n",
    "    lbl = preprocessing.LabelEncoder()\n",
    "    df[f] = lbl.fit_transform(df[f])\n",
    "    list_lbl.append(lbl)\n",
    "    \n",
    "feats_used = [   \n",
    "    \"active_power_raw\",\n",
    "    \"ambient_temperature\",\n",
    "    \"generator_speed\",\n",
    "    \"generator_winding_temp_max\",\n",
    "    \"grid_power10min_average\",\n",
    "    \"nc1_inside_temp\",\n",
    "    \"nacelle_temp\",\n",
    "    \"reactive_power\",\n",
    "    \"wind_direction_raw\",\n",
    "    \"wind_speed_raw\",\n",
    "    \"wind_speed_turbulence\",  \n",
    "]"
   ]
  },
  {
   "cell_type": "markdown",
   "metadata": {},
   "source": [
    "### Functions"
   ]
  },
  {
   "cell_type": "code",
   "execution_count": 4,
   "metadata": {
    "tags": []
   },
   "outputs": [],
   "source": [
    "def ts_metrics(y_true, y_pred):\n",
    "    return {\n",
    "        'mae': metrics.mean_absolute_error(y_true, y_pred),\n",
    "        'mse': metrics.mean_squared_error(y_true, y_pred),\n",
    "        'mape': np.mean(np.abs((y_true - y_pred) / y_true)),\n",
    "        'smape': np.mean(np.abs( 2*(y_true - y_pred) / (y_true+np.abs(y_pred)))),\n",
    "    }"
   ]
  },
  {
   "cell_type": "code",
   "execution_count": 5,
   "metadata": {
    "tags": []
   },
   "outputs": [],
   "source": [
    "def prepare_sets():\n",
    "    # Sets creation\n",
    "    feat_target = 'Target'\n",
    "\n",
    "    filt_fold  = df.fold == 0\n",
    "    filt_null  = df[feat_target].isnull()\n",
    "    filt_turb  = df.turbine_id == turb\n",
    "\n",
    "    filt_train = ~filt_fold & ~filt_null & filt_turb\n",
    "    filt_valid = filt_fold & ~filt_null & filt_turb\n",
    "    filt_test  = filt_null & filt_turb\n",
    "\n",
    "    x, y   = df[filt_train][feats_used], df[filt_train][feat_target]\n",
    "    xv, yv = df[filt_valid][feats_used], df[filt_valid][feat_target]\n",
    "    xt, yt = df[filt_test][feats_used],  df[filt_test][feat_target]\n",
    "    # print(x.shape, xv.shape, xt.shape)\n",
    "\n",
    "    return x,y,xv,yv"
   ]
  },
  {
   "cell_type": "code",
   "execution_count": 6,
   "metadata": {
    "tags": []
   },
   "outputs": [],
   "source": [
    "def rf_search():\n",
    "    list1 = list()\n",
    "    list2 = list()\n",
    "    for max_depth in [5,10,None]:\n",
    "        rf = ensemble.RandomForestRegressor(n_estimators=500, max_depth=max_depth, n_jobs=-1)\n",
    "        rf.fit(x, y)\n",
    "        pred = rf.predict(xv)\n",
    "        res = ts_metrics(yv, pred)\n",
    "        list1.append(res)\n",
    "        list2.append(max_depth)\n",
    "                \n",
    "    df_out = pd.DataFrame(list1)\n",
    "    df_out['max_depth'] = list2\n",
    "    return df_out"
   ]
  },
  {
   "cell_type": "markdown",
   "metadata": {},
   "source": [
    "### Main loop"
   ]
  },
  {
   "cell_type": "code",
   "execution_count": 7,
   "metadata": {
    "collapsed": true,
    "jupyter": {
     "outputs_hidden": true
    },
    "tags": []
   },
   "outputs": [
    {
     "name": "stdout",
     "output_type": "stream",
     "text": [
      "------------\n",
      "turb = 0\n",
      "0:00:00.001000\n",
      "------------\n",
      "turb = 1\n",
      "0:00:56.001115\n",
      "------------\n",
      "turb = 2\n",
      "0:01:54.487196\n",
      "------------\n",
      "turb = 3\n",
      "0:02:56.073701\n",
      "------------\n",
      "turb = 4\n",
      "0:03:58.144630\n",
      "------------\n",
      "turb = 5\n",
      "0:05:00.184277\n",
      "------------\n",
      "turb = 6\n",
      "0:06:01.517457\n",
      "------------\n",
      "turb = 7\n",
      "0:07:05.109727\n",
      "------------\n",
      "turb = 8\n",
      "0:08:08.732025\n",
      "------------\n",
      "turb = 9\n",
      "0:09:15.039057\n",
      "------------\n",
      "turb = 10\n",
      "0:10:23.722612\n",
      "------------\n",
      "turb = 11\n",
      "0:11:31.923064\n",
      "------------\n",
      "turb = 12\n",
      "0:12:38.363359\n",
      "------------\n",
      "turb = 13\n",
      "0:13:46.705399\n",
      "------------\n",
      "turb = 14\n",
      "0:14:54.705902\n",
      "------------\n",
      "turb = 15\n",
      "0:16:03.129373\n"
     ]
    }
   ],
   "source": [
    "dt_start = dt.now()\n",
    "df_res3 = pd.DataFrame()\n",
    "for turb in range(16):\n",
    "    print('------------')\n",
    "    print('turb =', turb)\n",
    "    print(dt.now() - dt_start)\n",
    "    \n",
    "    x,y,xv,yv = prepare_sets()\n",
    "    df_res0 = rf_search()\n",
    "    df_res0['turb'] = turb\n",
    "    df_res3 = pd.concat([df_res3, df_res0])"
   ]
  },
  {
   "cell_type": "markdown",
   "metadata": {},
   "source": [
    "### The best results"
   ]
  },
  {
   "cell_type": "code",
   "execution_count": 8,
   "metadata": {},
   "outputs": [],
   "source": [
    "df_res3.reset_index(inplace = True, drop = True)\n",
    "df_res3.to_pickle('data/df_rf.pkl')"
   ]
  },
  {
   "cell_type": "code",
   "execution_count": 9,
   "metadata": {
    "tags": []
   },
   "outputs": [
    {
     "data": {
      "text/html": [
       "<div>\n",
       "<style scoped>\n",
       "    .dataframe tbody tr th:only-of-type {\n",
       "        vertical-align: middle;\n",
       "    }\n",
       "\n",
       "    .dataframe tbody tr th {\n",
       "        vertical-align: top;\n",
       "    }\n",
       "\n",
       "    .dataframe thead th {\n",
       "        text-align: right;\n",
       "    }\n",
       "</style>\n",
       "<table border=\"1\" class=\"dataframe\">\n",
       "  <thead>\n",
       "    <tr style=\"text-align: right;\">\n",
       "      <th></th>\n",
       "      <th>mae</th>\n",
       "      <th>mse</th>\n",
       "      <th>mape</th>\n",
       "      <th>smape</th>\n",
       "      <th>max_depth</th>\n",
       "      <th>turb</th>\n",
       "      <th>mape_min</th>\n",
       "    </tr>\n",
       "  </thead>\n",
       "  <tbody>\n",
       "    <tr>\n",
       "      <th>2</th>\n",
       "      <td>0.88718</td>\n",
       "      <td>1.89118</td>\n",
       "      <td>0.01770</td>\n",
       "      <td>0.01769</td>\n",
       "      <td>nan</td>\n",
       "      <td>0</td>\n",
       "      <td>0.01770</td>\n",
       "    </tr>\n",
       "    <tr>\n",
       "      <th>5</th>\n",
       "      <td>0.62344</td>\n",
       "      <td>0.90800</td>\n",
       "      <td>0.01340</td>\n",
       "      <td>0.01332</td>\n",
       "      <td>nan</td>\n",
       "      <td>1</td>\n",
       "      <td>0.01340</td>\n",
       "    </tr>\n",
       "    <tr>\n",
       "      <th>8</th>\n",
       "      <td>0.47958</td>\n",
       "      <td>0.47869</td>\n",
       "      <td>0.01052</td>\n",
       "      <td>0.01050</td>\n",
       "      <td>nan</td>\n",
       "      <td>2</td>\n",
       "      <td>0.01052</td>\n",
       "    </tr>\n",
       "    <tr>\n",
       "      <th>11</th>\n",
       "      <td>0.45597</td>\n",
       "      <td>0.54031</td>\n",
       "      <td>0.00996</td>\n",
       "      <td>0.00989</td>\n",
       "      <td>nan</td>\n",
       "      <td>3</td>\n",
       "      <td>0.00996</td>\n",
       "    </tr>\n",
       "    <tr>\n",
       "      <th>14</th>\n",
       "      <td>0.59300</td>\n",
       "      <td>0.77769</td>\n",
       "      <td>0.01279</td>\n",
       "      <td>0.01274</td>\n",
       "      <td>nan</td>\n",
       "      <td>4</td>\n",
       "      <td>0.01279</td>\n",
       "    </tr>\n",
       "    <tr>\n",
       "      <th>17</th>\n",
       "      <td>0.65569</td>\n",
       "      <td>0.82683</td>\n",
       "      <td>0.01438</td>\n",
       "      <td>0.01436</td>\n",
       "      <td>nan</td>\n",
       "      <td>5</td>\n",
       "      <td>0.01438</td>\n",
       "    </tr>\n",
       "    <tr>\n",
       "      <th>20</th>\n",
       "      <td>0.50494</td>\n",
       "      <td>0.49859</td>\n",
       "      <td>0.01128</td>\n",
       "      <td>0.01126</td>\n",
       "      <td>nan</td>\n",
       "      <td>6</td>\n",
       "      <td>0.01128</td>\n",
       "    </tr>\n",
       "    <tr>\n",
       "      <th>23</th>\n",
       "      <td>0.53469</td>\n",
       "      <td>0.61333</td>\n",
       "      <td>0.01149</td>\n",
       "      <td>0.01146</td>\n",
       "      <td>nan</td>\n",
       "      <td>7</td>\n",
       "      <td>0.01149</td>\n",
       "    </tr>\n",
       "    <tr>\n",
       "      <th>26</th>\n",
       "      <td>0.51963</td>\n",
       "      <td>0.59295</td>\n",
       "      <td>0.01147</td>\n",
       "      <td>0.01142</td>\n",
       "      <td>nan</td>\n",
       "      <td>8</td>\n",
       "      <td>0.01147</td>\n",
       "    </tr>\n",
       "    <tr>\n",
       "      <th>29</th>\n",
       "      <td>0.47788</td>\n",
       "      <td>0.47668</td>\n",
       "      <td>0.01009</td>\n",
       "      <td>0.01006</td>\n",
       "      <td>nan</td>\n",
       "      <td>9</td>\n",
       "      <td>0.01009</td>\n",
       "    </tr>\n",
       "    <tr>\n",
       "      <th>32</th>\n",
       "      <td>0.56840</td>\n",
       "      <td>0.61343</td>\n",
       "      <td>0.01232</td>\n",
       "      <td>0.01229</td>\n",
       "      <td>nan</td>\n",
       "      <td>10</td>\n",
       "      <td>0.01232</td>\n",
       "    </tr>\n",
       "    <tr>\n",
       "      <th>35</th>\n",
       "      <td>0.65196</td>\n",
       "      <td>0.90637</td>\n",
       "      <td>0.01441</td>\n",
       "      <td>0.01434</td>\n",
       "      <td>nan</td>\n",
       "      <td>11</td>\n",
       "      <td>0.01441</td>\n",
       "    </tr>\n",
       "    <tr>\n",
       "      <th>38</th>\n",
       "      <td>0.54246</td>\n",
       "      <td>0.56534</td>\n",
       "      <td>0.01198</td>\n",
       "      <td>0.01196</td>\n",
       "      <td>nan</td>\n",
       "      <td>12</td>\n",
       "      <td>0.01198</td>\n",
       "    </tr>\n",
       "    <tr>\n",
       "      <th>41</th>\n",
       "      <td>0.38666</td>\n",
       "      <td>0.32507</td>\n",
       "      <td>0.00873</td>\n",
       "      <td>0.00871</td>\n",
       "      <td>nan</td>\n",
       "      <td>13</td>\n",
       "      <td>0.00873</td>\n",
       "    </tr>\n",
       "    <tr>\n",
       "      <th>44</th>\n",
       "      <td>1.84609</td>\n",
       "      <td>7.07633</td>\n",
       "      <td>0.03728</td>\n",
       "      <td>0.03733</td>\n",
       "      <td>nan</td>\n",
       "      <td>14</td>\n",
       "      <td>0.03728</td>\n",
       "    </tr>\n",
       "    <tr>\n",
       "      <th>47</th>\n",
       "      <td>0.62309</td>\n",
       "      <td>0.81035</td>\n",
       "      <td>0.01367</td>\n",
       "      <td>0.01361</td>\n",
       "      <td>nan</td>\n",
       "      <td>15</td>\n",
       "      <td>0.01367</td>\n",
       "    </tr>\n",
       "  </tbody>\n",
       "</table>\n",
       "</div>"
      ],
      "text/plain": [
       "       mae     mse    mape   smape  max_depth  turb  mape_min\n",
       "2  0.88718 1.89118 0.01770 0.01769        nan     0   0.01770\n",
       "5  0.62344 0.90800 0.01340 0.01332        nan     1   0.01340\n",
       "8  0.47958 0.47869 0.01052 0.01050        nan     2   0.01052\n",
       "11 0.45597 0.54031 0.00996 0.00989        nan     3   0.00996\n",
       "14 0.59300 0.77769 0.01279 0.01274        nan     4   0.01279\n",
       "17 0.65569 0.82683 0.01438 0.01436        nan     5   0.01438\n",
       "20 0.50494 0.49859 0.01128 0.01126        nan     6   0.01128\n",
       "23 0.53469 0.61333 0.01149 0.01146        nan     7   0.01149\n",
       "26 0.51963 0.59295 0.01147 0.01142        nan     8   0.01147\n",
       "29 0.47788 0.47668 0.01009 0.01006        nan     9   0.01009\n",
       "32 0.56840 0.61343 0.01232 0.01229        nan    10   0.01232\n",
       "35 0.65196 0.90637 0.01441 0.01434        nan    11   0.01441\n",
       "38 0.54246 0.56534 0.01198 0.01196        nan    12   0.01198\n",
       "41 0.38666 0.32507 0.00873 0.00871        nan    13   0.00873\n",
       "44 1.84609 7.07633 0.03728 0.03733        nan    14   0.03728\n",
       "47 0.62309 0.81035 0.01367 0.01361        nan    15   0.01367"
      ]
     },
     "execution_count": 9,
     "metadata": {},
     "output_type": "execute_result"
    }
   ],
   "source": [
    "df_res3 = pd.read_pickle('data/df_rf.pkl')\n",
    "df_res3['mape_min'] = df_res3.groupby('turb').mape.transform(min)\n",
    "f1 = df_res3.mape_min == df_res3.mape\n",
    "df_res4 = df_res3[f1]\n",
    "df_res4"
   ]
  },
  {
   "cell_type": "code",
   "execution_count": 10,
   "metadata": {},
   "outputs": [
    {
     "data": {
      "text/plain": [
       "0.013842084914805278"
      ]
     },
     "execution_count": 10,
     "metadata": {},
     "output_type": "execute_result"
    }
   ],
   "source": [
    "df_res4.mape.mean()"
   ]
  },
  {
   "cell_type": "code",
   "execution_count": 11,
   "metadata": {},
   "outputs": [
    {
     "name": "stdout",
     "output_type": "stream",
     "text": [
      "Working time:  0:17:09.377572\n"
     ]
    }
   ],
   "source": [
    "print('Working time: ', dt.now() - time_start) "
   ]
  }
 ],
 "metadata": {
  "kernelspec": {
   "display_name": "Python 3",
   "language": "python",
   "name": "python3"
  },
  "language_info": {
   "codemirror_mode": {
    "name": "ipython",
    "version": 3
   },
   "file_extension": ".py",
   "mimetype": "text/x-python",
   "name": "python",
   "nbconvert_exporter": "python",
   "pygments_lexer": "ipython3",
   "version": "3.8.5"
  }
 },
 "nbformat": 4,
 "nbformat_minor": 4
}
