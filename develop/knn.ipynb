{
 "cells": [
  {
   "cell_type": "code",
   "execution_count": 1,
   "metadata": {},
   "outputs": [],
   "source": [
    "time_start = dt.now()"
   ]
  },
  {
   "cell_type": "markdown",
   "metadata": {
    "tags": []
   },
   "source": [
    "### Functions"
   ]
  },
  {
   "cell_type": "code",
   "execution_count": 2,
   "metadata": {},
   "outputs": [],
   "source": [
    "def ts_metrics(y_true, y_pred):\n",
    "    return {\n",
    "        'mae': metrics.mean_absolute_error(y_true, y_pred),\n",
    "        'mse': metrics.mean_squared_error(y_true, y_pred),\n",
    "        'mape': np.mean(np.abs((y_true - y_pred) / y_true)),\n",
    "        'smape': np.mean(np.abs( 2*(y_true - y_pred) / (y_true+np.abs(y_pred)))),\n",
    "    }"
   ]
  },
  {
   "cell_type": "markdown",
   "metadata": {},
   "source": [
    "### 1. Prepare dataset"
   ]
  },
  {
   "cell_type": "code",
   "execution_count": 3,
   "metadata": {},
   "outputs": [],
   "source": [
    "# read train dataset\n",
    "df1 = pd.read_csv('data/train.csv')\n",
    "df1['row_id'] = range(len(df1))\n",
    "\n",
    "# read test dataset\n",
    "df2 = pd.read_csv('data/new/test.csv')\n",
    "df2['row_id'] = range(len(df2))\n",
    "df2['row_id'] = df2['row_id']  + 1000000\n",
    "\n",
    "# merge\n",
    "df = pd.concat([df1,df2])\n",
    "del df1,df2\n",
    "gc.collect()\n",
    "\n",
    "# add fold for splitting\n",
    "np.random.seed(1234)\n",
    "df['fold'] = np.random.randint(0,3,len(df))\n",
    "# drop some features\n",
    "feats_drop = ['timestamp','active_power_calculated_by_converter','reactice_power_calculated_by_converter']\n",
    "for f in feats_drop:\n",
    "    if f in df.columns:\n",
    "        del df[f]\n",
    "# label encoder of categorical feats\n",
    "feats_cat = ['turbine_id']\n",
    "list_lbl  = []\n",
    "for f in feats_cat:\n",
    "    lbl = preprocessing.LabelEncoder()\n",
    "    df[f] = lbl.fit_transform(df[f])\n",
    "    list_lbl.append(lbl)"
   ]
  },
  {
   "cell_type": "code",
   "execution_count": 4,
   "metadata": {},
   "outputs": [
    {
     "name": "stdout",
     "output_type": "stream",
     "text": [
      "0 Turbine_01\n",
      "1 Turbine_10\n",
      "2 Turbine_103\n",
      "3 Turbine_105\n",
      "4 Turbine_108\n",
      "5 Turbine_120\n",
      "6 Turbine_123\n",
      "7 Turbine_13\n",
      "8 Turbine_139\n",
      "9 Turbine_14\n",
      "10 Turbine_15\n",
      "11 Turbine_158\n",
      "12 Turbine_18\n",
      "13 Turbine_19\n",
      "14 Turbine_20\n",
      "15 Turbine_97\n"
     ]
    }
   ],
   "source": [
    "for i,l in enumerate(lbl.classes_):\n",
    "    print(i, l)"
   ]
  },
  {
   "cell_type": "code",
   "execution_count": 5,
   "metadata": {},
   "outputs": [],
   "source": [
    "df['turbine_id'] = df['turbine_id']*1000"
   ]
  },
  {
   "cell_type": "code",
   "execution_count": 6,
   "metadata": {},
   "outputs": [],
   "source": [
    "feats_used = [    \n",
    "    \"turbine_id\",\n",
    "    \n",
    "    \"active_power_raw\",\n",
    "    \"ambient_temperature\",\n",
    "    \"generator_speed\",\n",
    "    \"generator_winding_temp_max\",\n",
    "    \"grid_power10min_average\",\n",
    "    \"nc1_inside_temp\",\n",
    "    \"nacelle_temp\",\n",
    "    \"reactive_power\",\n",
    "    \"wind_direction_raw\",\n",
    "    \"wind_speed_raw\",\n",
    "    \"wind_speed_turbulence\",\n",
    "  \n",
    "]"
   ]
  },
  {
   "cell_type": "markdown",
   "metadata": {},
   "source": [
    "### 2. Training"
   ]
  },
  {
   "cell_type": "code",
   "execution_count": 7,
   "metadata": {},
   "outputs": [
    {
     "name": "stdout",
     "output_type": "stream",
     "text": [
      "(606820, 12) (302784, 12) (303202, 12)\n"
     ]
    },
    {
     "data": {
      "text/html": [
       "<div>\n",
       "<style scoped>\n",
       "    .dataframe tbody tr th:only-of-type {\n",
       "        vertical-align: middle;\n",
       "    }\n",
       "\n",
       "    .dataframe tbody tr th {\n",
       "        vertical-align: top;\n",
       "    }\n",
       "\n",
       "    .dataframe thead th {\n",
       "        text-align: right;\n",
       "    }\n",
       "</style>\n",
       "<table border=\"1\" class=\"dataframe\">\n",
       "  <thead>\n",
       "    <tr style=\"text-align: right;\">\n",
       "      <th></th>\n",
       "      <th>turbine_id</th>\n",
       "      <th>active_power_raw</th>\n",
       "      <th>ambient_temperature</th>\n",
       "      <th>generator_speed</th>\n",
       "      <th>generator_winding_temp_max</th>\n",
       "      <th>grid_power10min_average</th>\n",
       "      <th>nc1_inside_temp</th>\n",
       "      <th>nacelle_temp</th>\n",
       "      <th>reactive_power</th>\n",
       "      <th>wind_direction_raw</th>\n",
       "      <th>wind_speed_raw</th>\n",
       "      <th>wind_speed_turbulence</th>\n",
       "    </tr>\n",
       "  </thead>\n",
       "  <tbody>\n",
       "    <tr>\n",
       "      <th>0</th>\n",
       "      <td>4000</td>\n",
       "      <td>834.92</td>\n",
       "      <td>31.69</td>\n",
       "      <td>1,159.62</td>\n",
       "      <td>65.95</td>\n",
       "      <td>917.90</td>\n",
       "      <td>31.88</td>\n",
       "      <td>31.50</td>\n",
       "      <td>165.50</td>\n",
       "      <td>280.86</td>\n",
       "      <td>7.06</td>\n",
       "      <td>0.54</td>\n",
       "    </tr>\n",
       "    <tr>\n",
       "      <th>1</th>\n",
       "      <td>12000</td>\n",
       "      <td>421.05</td>\n",
       "      <td>12.89</td>\n",
       "      <td>928.75</td>\n",
       "      <td>59.57</td>\n",
       "      <td>445.55</td>\n",
       "      <td>32.42</td>\n",
       "      <td>32.76</td>\n",
       "      <td>113.84</td>\n",
       "      <td>299.55</td>\n",
       "      <td>5.47</td>\n",
       "      <td>0.47</td>\n",
       "    </tr>\n",
       "    <tr>\n",
       "      <th>5</th>\n",
       "      <td>10000</td>\n",
       "      <td>620.64</td>\n",
       "      <td>28.06</td>\n",
       "      <td>955.60</td>\n",
       "      <td>60.88</td>\n",
       "      <td>697.72</td>\n",
       "      <td>31.01</td>\n",
       "      <td>31.05</td>\n",
       "      <td>75.78</td>\n",
       "      <td>229.57</td>\n",
       "      <td>6.03</td>\n",
       "      <td>0.78</td>\n",
       "    </tr>\n",
       "  </tbody>\n",
       "</table>\n",
       "</div>"
      ],
      "text/plain": [
       "   turbine_id  active_power_raw  ambient_temperature  generator_speed  \\\n",
       "0        4000            834.92                31.69         1,159.62   \n",
       "1       12000            421.05                12.89           928.75   \n",
       "5       10000            620.64                28.06           955.60   \n",
       "\n",
       "   generator_winding_temp_max  grid_power10min_average  nc1_inside_temp  \\\n",
       "0                       65.95                   917.90            31.88   \n",
       "1                       59.57                   445.55            32.42   \n",
       "5                       60.88                   697.72            31.01   \n",
       "\n",
       "   nacelle_temp  reactive_power  wind_direction_raw  wind_speed_raw  \\\n",
       "0         31.50          165.50              280.86            7.06   \n",
       "1         32.76          113.84              299.55            5.47   \n",
       "5         31.05           75.78              229.57            6.03   \n",
       "\n",
       "   wind_speed_turbulence  \n",
       "0                   0.54  \n",
       "1                   0.47  \n",
       "5                   0.78  "
      ]
     },
     "execution_count": 7,
     "metadata": {},
     "output_type": "execute_result"
    }
   ],
   "source": [
    "# Sets creation\n",
    "feat_target = 'Target'\n",
    "\n",
    "filt_fold  = df.fold == 0\n",
    "filt_null  = df[feat_target].isnull()\n",
    "\n",
    "filt_train = ~filt_fold & ~filt_null\n",
    "filt_valid = filt_fold & ~filt_null\n",
    "filt_test  = filt_null\n",
    "\n",
    "x, y   = df[filt_train][feats_used], df[filt_train][feat_target]\n",
    "xv, yv = df[filt_valid][feats_used], df[filt_valid][feat_target]\n",
    "xt, yt = df[filt_test][feats_used],  df[filt_test][feat_target]\n",
    "\n",
    "print(x.shape, xv.shape, xt.shape)\n",
    "\n",
    "del df\n",
    "gc.collect()\n",
    "x[:3]"
   ]
  },
  {
   "cell_type": "code",
   "execution_count": 8,
   "metadata": {},
   "outputs": [],
   "source": [
    "scaler = preprocessing.StandardScaler()\n",
    "\n",
    "scaler.fit(x)\n",
    "x1 = scaler.transform(x)\n",
    "xv1 = scaler.transform(xv)\n",
    "xt1 = scaler.transform(xt)"
   ]
  },
  {
   "cell_type": "code",
   "execution_count": 9,
   "metadata": {},
   "outputs": [
    {
     "data": {
      "text/html": [
       "<style>#sk-container-id-1 {color: black;background-color: white;}#sk-container-id-1 pre{padding: 0;}#sk-container-id-1 div.sk-toggleable {background-color: white;}#sk-container-id-1 label.sk-toggleable__label {cursor: pointer;display: block;width: 100%;margin-bottom: 0;padding: 0.3em;box-sizing: border-box;text-align: center;}#sk-container-id-1 label.sk-toggleable__label-arrow:before {content: \"▸\";float: left;margin-right: 0.25em;color: #696969;}#sk-container-id-1 label.sk-toggleable__label-arrow:hover:before {color: black;}#sk-container-id-1 div.sk-estimator:hover label.sk-toggleable__label-arrow:before {color: black;}#sk-container-id-1 div.sk-toggleable__content {max-height: 0;max-width: 0;overflow: hidden;text-align: left;background-color: #f0f8ff;}#sk-container-id-1 div.sk-toggleable__content pre {margin: 0.2em;color: black;border-radius: 0.25em;background-color: #f0f8ff;}#sk-container-id-1 input.sk-toggleable__control:checked~div.sk-toggleable__content {max-height: 200px;max-width: 100%;overflow: auto;}#sk-container-id-1 input.sk-toggleable__control:checked~label.sk-toggleable__label-arrow:before {content: \"▾\";}#sk-container-id-1 div.sk-estimator input.sk-toggleable__control:checked~label.sk-toggleable__label {background-color: #d4ebff;}#sk-container-id-1 div.sk-label input.sk-toggleable__control:checked~label.sk-toggleable__label {background-color: #d4ebff;}#sk-container-id-1 input.sk-hidden--visually {border: 0;clip: rect(1px 1px 1px 1px);clip: rect(1px, 1px, 1px, 1px);height: 1px;margin: -1px;overflow: hidden;padding: 0;position: absolute;width: 1px;}#sk-container-id-1 div.sk-estimator {font-family: monospace;background-color: #f0f8ff;border: 1px dotted black;border-radius: 0.25em;box-sizing: border-box;margin-bottom: 0.5em;}#sk-container-id-1 div.sk-estimator:hover {background-color: #d4ebff;}#sk-container-id-1 div.sk-parallel-item::after {content: \"\";width: 100%;border-bottom: 1px solid gray;flex-grow: 1;}#sk-container-id-1 div.sk-label:hover label.sk-toggleable__label {background-color: #d4ebff;}#sk-container-id-1 div.sk-serial::before {content: \"\";position: absolute;border-left: 1px solid gray;box-sizing: border-box;top: 0;bottom: 0;left: 50%;z-index: 0;}#sk-container-id-1 div.sk-serial {display: flex;flex-direction: column;align-items: center;background-color: white;padding-right: 0.2em;padding-left: 0.2em;position: relative;}#sk-container-id-1 div.sk-item {position: relative;z-index: 1;}#sk-container-id-1 div.sk-parallel {display: flex;align-items: stretch;justify-content: center;background-color: white;position: relative;}#sk-container-id-1 div.sk-item::before, #sk-container-id-1 div.sk-parallel-item::before {content: \"\";position: absolute;border-left: 1px solid gray;box-sizing: border-box;top: 0;bottom: 0;left: 50%;z-index: -1;}#sk-container-id-1 div.sk-parallel-item {display: flex;flex-direction: column;z-index: 1;position: relative;background-color: white;}#sk-container-id-1 div.sk-parallel-item:first-child::after {align-self: flex-end;width: 50%;}#sk-container-id-1 div.sk-parallel-item:last-child::after {align-self: flex-start;width: 50%;}#sk-container-id-1 div.sk-parallel-item:only-child::after {width: 0;}#sk-container-id-1 div.sk-dashed-wrapped {border: 1px dashed gray;margin: 0 0.4em 0.5em 0.4em;box-sizing: border-box;padding-bottom: 0.4em;background-color: white;}#sk-container-id-1 div.sk-label label {font-family: monospace;font-weight: bold;display: inline-block;line-height: 1.2em;}#sk-container-id-1 div.sk-label-container {text-align: center;}#sk-container-id-1 div.sk-container {/* jupyter's `normalize.less` sets `[hidden] { display: none; }` but bootstrap.min.css set `[hidden] { display: none !important; }` so we also need the `!important` here to be able to override the default hidden behavior on the sphinx rendered scikit-learn.org. See: https://github.com/scikit-learn/scikit-learn/issues/21755 */display: inline-block !important;position: relative;}#sk-container-id-1 div.sk-text-repr-fallback {display: none;}</style><div id=\"sk-container-id-1\" class=\"sk-top-container\"><div class=\"sk-text-repr-fallback\"><pre>KNeighborsRegressor(n_jobs=-1, n_neighbors=1, p=1)</pre><b>In a Jupyter environment, please rerun this cell to show the HTML representation or trust the notebook. <br />On GitHub, the HTML representation is unable to render, please try loading this page with nbviewer.org.</b></div><div class=\"sk-container\" hidden><div class=\"sk-item\"><div class=\"sk-estimator sk-toggleable\"><input class=\"sk-toggleable__control sk-hidden--visually\" id=\"sk-estimator-id-1\" type=\"checkbox\" checked><label for=\"sk-estimator-id-1\" class=\"sk-toggleable__label sk-toggleable__label-arrow\">KNeighborsRegressor</label><div class=\"sk-toggleable__content\"><pre>KNeighborsRegressor(n_jobs=-1, n_neighbors=1, p=1)</pre></div></div></div></div></div>"
      ],
      "text/plain": [
       "KNeighborsRegressor(n_jobs=-1, n_neighbors=1, p=1)"
      ]
     },
     "execution_count": 9,
     "metadata": {},
     "output_type": "execute_result"
    }
   ],
   "source": [
    "from sklearn import neighbors \n",
    "\n",
    "model_knn = neighbors.KNeighborsRegressor(n_neighbors=1, n_jobs=-1, p=1)\n",
    "model_knn.fit(x1, y)"
   ]
  },
  {
   "cell_type": "code",
   "execution_count": 10,
   "metadata": {},
   "outputs": [
    {
     "data": {
      "text/plain": [
       "{'mae': 0.7458594564890545,\n",
       " 'mse': 2.094511290714427,\n",
       " 'mape': 0.015909477641583354,\n",
       " 'smape': 0.015870494213371104}"
      ]
     },
     "execution_count": 10,
     "metadata": {},
     "output_type": "execute_result"
    }
   ],
   "source": [
    "pred = model_knn.predict(xv1)\n",
    "ts_metrics(yv, pred)"
   ]
  },
  {
   "cell_type": "code",
   "execution_count": 11,
   "metadata": {},
   "outputs": [],
   "source": [
    "# predictions\n",
    "df_out = pd.DataFrame({\n",
    "    'Target': pred\n",
    "})\n",
    "df_out.to_csv('output/valid_knn.csv', index = False, sep = ',')\n",
    "\n",
    "df_out = pd.DataFrame({\n",
    "    'Target': model_knn.predict(xt1)\n",
    "})\n",
    "df_out.to_csv('output/main_knn.csv', index = False, sep = ',')"
   ]
  },
  {
   "cell_type": "code",
   "execution_count": 12,
   "metadata": {},
   "outputs": [
    {
     "name": "stdout",
     "output_type": "stream",
     "text": [
      "Working time:  0:01:25.018755\n"
     ]
    }
   ],
   "source": [
    "print('Working time: ', dt.now() - time_start) "
   ]
  }
 ],
 "metadata": {
  "kernelspec": {
   "display_name": "Python 3",
   "language": "python",
   "name": "python3"
  },
  "language_info": {
   "codemirror_mode": {
    "name": "ipython",
    "version": 3
   },
   "file_extension": ".py",
   "mimetype": "text/x-python",
   "name": "python",
   "nbconvert_exporter": "python",
   "pygments_lexer": "ipython3",
   "version": "3.8.5"
  }
 },
 "nbformat": 4,
 "nbformat_minor": 4
}
