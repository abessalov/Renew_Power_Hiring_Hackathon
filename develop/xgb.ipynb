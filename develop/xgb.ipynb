{
 "cells": [
  {
   "cell_type": "code",
   "execution_count": 1,
   "metadata": {},
   "outputs": [],
   "source": [
    "time_start = dt.now()"
   ]
  },
  {
   "cell_type": "markdown",
   "metadata": {
    "tags": []
   },
   "source": [
    "### Functions"
   ]
  },
  {
   "cell_type": "code",
   "execution_count": 2,
   "metadata": {},
   "outputs": [],
   "source": [
    "def ts_metrics(y_true, y_pred):\n",
    "    return {\n",
    "        'mae': metrics.mean_absolute_error(y_true, y_pred),\n",
    "        'mse': metrics.mean_squared_error(y_true, y_pred),\n",
    "        'mape': np.mean(np.abs((y_true - y_pred) / y_true)),\n",
    "        'smape': np.mean(np.abs( 2*(y_true - y_pred) / (y_true+np.abs(y_pred)))),\n",
    "    }"
   ]
  },
  {
   "cell_type": "markdown",
   "metadata": {},
   "source": [
    "### 1. Prepare dataset"
   ]
  },
  {
   "cell_type": "code",
   "execution_count": 3,
   "metadata": {},
   "outputs": [],
   "source": [
    "# read train dataset\n",
    "df1 = pd.read_csv('data/train.csv')\n",
    "df1['row_id'] = range(len(df1))\n",
    "\n",
    "# read test dataset\n",
    "df2 = pd.read_csv('data/new/test.csv')\n",
    "df2['row_id'] = range(len(df2))\n",
    "df2['row_id'] = df2['row_id']  + 1000000\n",
    "\n",
    "# merge\n",
    "df = pd.concat([df1,df2])\n",
    "del df1,df2\n",
    "gc.collect()\n",
    "\n",
    "# add fold for splitting\n",
    "np.random.seed(1234)\n",
    "df['fold'] = np.random.randint(0,3,len(df))\n",
    "# drop some features\n",
    "feats_drop = ['timestamp','active_power_calculated_by_converter','reactice_power_calculated_by_converter']\n",
    "for f in feats_drop:\n",
    "    if f in df.columns:\n",
    "        del df[f]\n",
    "# label encoder of categorical feats\n",
    "feats_cat = ['turbine_id']\n",
    "list_lbl  = []\n",
    "for f in feats_cat:\n",
    "    lbl = preprocessing.LabelEncoder()\n",
    "    df[f] = lbl.fit_transform(df[f])\n",
    "    list_lbl.append(lbl)"
   ]
  },
  {
   "cell_type": "code",
   "execution_count": 4,
   "metadata": {},
   "outputs": [
    {
     "name": "stdout",
     "output_type": "stream",
     "text": [
      "0 Turbine_01\n",
      "1 Turbine_10\n",
      "2 Turbine_103\n",
      "3 Turbine_105\n",
      "4 Turbine_108\n",
      "5 Turbine_120\n",
      "6 Turbine_123\n",
      "7 Turbine_13\n",
      "8 Turbine_139\n",
      "9 Turbine_14\n",
      "10 Turbine_15\n",
      "11 Turbine_158\n",
      "12 Turbine_18\n",
      "13 Turbine_19\n",
      "14 Turbine_20\n",
      "15 Turbine_97\n"
     ]
    }
   ],
   "source": [
    "for i,l in enumerate(lbl.classes_):\n",
    "    print(i, l)"
   ]
  },
  {
   "cell_type": "code",
   "execution_count": 5,
   "metadata": {},
   "outputs": [],
   "source": [
    "feats_used = [    \n",
    "    \"turbine_id\",\n",
    "    \n",
    "    \"active_power_raw\",\n",
    "    \"ambient_temperature\",\n",
    "    \"generator_speed\",\n",
    "    \"generator_winding_temp_max\",\n",
    "    \"grid_power10min_average\",\n",
    "    \"nc1_inside_temp\",\n",
    "    \"nacelle_temp\",\n",
    "    \"reactive_power\",\n",
    "    \"wind_direction_raw\",\n",
    "    \"wind_speed_raw\",\n",
    "    \"wind_speed_turbulence\",\n",
    "  \n",
    "]"
   ]
  },
  {
   "cell_type": "markdown",
   "metadata": {},
   "source": [
    "### 2. Training"
   ]
  },
  {
   "cell_type": "code",
   "execution_count": 6,
   "metadata": {},
   "outputs": [
    {
     "name": "stdout",
     "output_type": "stream",
     "text": [
      "(606820, 12) (302784, 12) (303202, 12)\n"
     ]
    },
    {
     "data": {
      "text/html": [
       "<div>\n",
       "<style scoped>\n",
       "    .dataframe tbody tr th:only-of-type {\n",
       "        vertical-align: middle;\n",
       "    }\n",
       "\n",
       "    .dataframe tbody tr th {\n",
       "        vertical-align: top;\n",
       "    }\n",
       "\n",
       "    .dataframe thead th {\n",
       "        text-align: right;\n",
       "    }\n",
       "</style>\n",
       "<table border=\"1\" class=\"dataframe\">\n",
       "  <thead>\n",
       "    <tr style=\"text-align: right;\">\n",
       "      <th></th>\n",
       "      <th>turbine_id</th>\n",
       "      <th>active_power_raw</th>\n",
       "      <th>ambient_temperature</th>\n",
       "      <th>generator_speed</th>\n",
       "      <th>generator_winding_temp_max</th>\n",
       "      <th>grid_power10min_average</th>\n",
       "      <th>nc1_inside_temp</th>\n",
       "      <th>nacelle_temp</th>\n",
       "      <th>reactive_power</th>\n",
       "      <th>wind_direction_raw</th>\n",
       "      <th>wind_speed_raw</th>\n",
       "      <th>wind_speed_turbulence</th>\n",
       "    </tr>\n",
       "  </thead>\n",
       "  <tbody>\n",
       "    <tr>\n",
       "      <th>0</th>\n",
       "      <td>4</td>\n",
       "      <td>834.92</td>\n",
       "      <td>31.69</td>\n",
       "      <td>1,159.62</td>\n",
       "      <td>65.95</td>\n",
       "      <td>917.90</td>\n",
       "      <td>31.88</td>\n",
       "      <td>31.50</td>\n",
       "      <td>165.50</td>\n",
       "      <td>280.86</td>\n",
       "      <td>7.06</td>\n",
       "      <td>0.54</td>\n",
       "    </tr>\n",
       "    <tr>\n",
       "      <th>1</th>\n",
       "      <td>12</td>\n",
       "      <td>421.05</td>\n",
       "      <td>12.89</td>\n",
       "      <td>928.75</td>\n",
       "      <td>59.57</td>\n",
       "      <td>445.55</td>\n",
       "      <td>32.42</td>\n",
       "      <td>32.76</td>\n",
       "      <td>113.84</td>\n",
       "      <td>299.55</td>\n",
       "      <td>5.47</td>\n",
       "      <td>0.47</td>\n",
       "    </tr>\n",
       "    <tr>\n",
       "      <th>5</th>\n",
       "      <td>10</td>\n",
       "      <td>620.64</td>\n",
       "      <td>28.06</td>\n",
       "      <td>955.60</td>\n",
       "      <td>60.88</td>\n",
       "      <td>697.72</td>\n",
       "      <td>31.01</td>\n",
       "      <td>31.05</td>\n",
       "      <td>75.78</td>\n",
       "      <td>229.57</td>\n",
       "      <td>6.03</td>\n",
       "      <td>0.78</td>\n",
       "    </tr>\n",
       "  </tbody>\n",
       "</table>\n",
       "</div>"
      ],
      "text/plain": [
       "   turbine_id  active_power_raw  ambient_temperature  generator_speed  \\\n",
       "0           4            834.92                31.69         1,159.62   \n",
       "1          12            421.05                12.89           928.75   \n",
       "5          10            620.64                28.06           955.60   \n",
       "\n",
       "   generator_winding_temp_max  grid_power10min_average  nc1_inside_temp  \\\n",
       "0                       65.95                   917.90            31.88   \n",
       "1                       59.57                   445.55            32.42   \n",
       "5                       60.88                   697.72            31.01   \n",
       "\n",
       "   nacelle_temp  reactive_power  wind_direction_raw  wind_speed_raw  \\\n",
       "0         31.50          165.50              280.86            7.06   \n",
       "1         32.76          113.84              299.55            5.47   \n",
       "5         31.05           75.78              229.57            6.03   \n",
       "\n",
       "   wind_speed_turbulence  \n",
       "0                   0.54  \n",
       "1                   0.47  \n",
       "5                   0.78  "
      ]
     },
     "execution_count": 6,
     "metadata": {},
     "output_type": "execute_result"
    }
   ],
   "source": [
    "# Sets creation\n",
    "feat_target = 'Target'\n",
    "\n",
    "filt_fold  = df.fold == 0\n",
    "filt_null  = df[feat_target].isnull()\n",
    "\n",
    "filt_train = ~filt_fold & ~filt_null\n",
    "filt_valid = filt_fold & ~filt_null\n",
    "filt_test  = filt_null\n",
    "\n",
    "x, y   = df[filt_train][feats_used], df[filt_train][feat_target]\n",
    "xv, yv = df[filt_valid][feats_used], df[filt_valid][feat_target]\n",
    "xt, yt = df[filt_test][feats_used],  df[filt_test][feat_target]\n",
    "\n",
    "print(x.shape, xv.shape, xt.shape)\n",
    "\n",
    "del df\n",
    "gc.collect()\n",
    "x[:3]"
   ]
  },
  {
   "cell_type": "code",
   "execution_count": 7,
   "metadata": {},
   "outputs": [],
   "source": [
    "# Training process\n",
    "import xgboost as xgb\n",
    "x_ = xgb.DMatrix(x.values, \n",
    "                label = y, \n",
    "                feature_names = feats_used)\n",
    "xv_ = xgb.DMatrix(xv.values, \n",
    "                label = yv, \n",
    "                feature_names = feats_used) \n",
    "xt_ = xgb.DMatrix(xt.values, \n",
    "                label = yt, \n",
    "                feature_names = feats_used)"
   ]
  },
  {
   "cell_type": "code",
   "execution_count": 8,
   "metadata": {
    "tags": []
   },
   "outputs": [
    {
     "name": "stdout",
     "output_type": "stream",
     "text": [
      "[0]\ttrain-rmse:41.32114\tvalid-rmse:41.31805\n",
      "[1000]\ttrain-rmse:1.11777\tvalid-rmse:1.20559\n",
      "[2000]\ttrain-rmse:0.99535\tvalid-rmse:1.13927\n",
      "[3000]\ttrain-rmse:0.92113\tvalid-rmse:1.11217\n",
      "[4000]\ttrain-rmse:0.86526\tvalid-rmse:1.09519\n",
      "[5000]\ttrain-rmse:0.82121\tvalid-rmse:1.08669\n",
      "[6000]\ttrain-rmse:0.78237\tvalid-rmse:1.07884\n",
      "[7000]\ttrain-rmse:0.74889\tvalid-rmse:1.07360\n",
      "[8000]\ttrain-rmse:0.71831\tvalid-rmse:1.06896\n",
      "[9000]\ttrain-rmse:0.68887\tvalid-rmse:1.06474\n",
      "[10000]\ttrain-rmse:0.66317\tvalid-rmse:1.06256\n",
      "[11000]\ttrain-rmse:0.64008\tvalid-rmse:1.06020\n",
      "[12000]\ttrain-rmse:0.61719\tvalid-rmse:1.05856\n",
      "[12371]\ttrain-rmse:0.60900\tvalid-rmse:1.05799\n"
     ]
    }
   ],
   "source": [
    "params = {\n",
    "        'booster': 'gbtree',\n",
    "        'tree_method': 'hist',\n",
    "        'objective': 'reg:squarederror', \n",
    "        # 'eval_metric': 'logloss',\n",
    "        'eta': 0.1,\n",
    "        'max_depth': 6,  # -1 means no limit\n",
    "        'subsample': 1,  # Subsample ratio of the training instance.\n",
    "        'colsample_bytree': 1,  # Subsample ratio of columns when constructing each tree.\n",
    "        'reg_alpha': 0,  # L1 regularization term on weights\n",
    "        'reg_lambda': 0,  # L2 regularization term on weights\n",
    "        'nthread': -1,\n",
    "        'verbosity': 0\n",
    "    }       \n",
    "\n",
    "# del x, xv, xt\n",
    "# gc.collect()\n",
    "\n",
    "early_stopping_rounds = 50\n",
    "num_boost_round       = 20000\n",
    "\n",
    "evals_results = dict()\n",
    "model_xgb = xgb.train(params, \n",
    "             x_, \n",
    "             evals=[\n",
    "                 (x_,'train'), \n",
    "                 (xv_,'valid'),\n",
    "                 # (xt_,'test'),\n",
    "             ], \n",
    "             evals_result=evals_results, \n",
    "             num_boost_round=num_boost_round,\n",
    "             early_stopping_rounds=early_stopping_rounds,\n",
    "             verbose_eval=1000)"
   ]
  },
  {
   "cell_type": "code",
   "execution_count": 9,
   "metadata": {},
   "outputs": [
    {
     "data": {
      "image/png": "[encoded data removed]",
      "text/plain": [
       "<Figure size 360x216 with 1 Axes>"
      ]
     },
     "metadata": {},
     "output_type": "display_data"
    }
   ],
   "source": [
    "plt.style.use('seaborn')\n",
    "df_evals = pd.DataFrame({\n",
    "            'train': evals_results['train']['rmse'],\n",
    "            'valid': evals_results['valid']['rmse'],\n",
    "            # 'test': evals_results['test']['rmse'],\n",
    "})\n",
    "_ = df_evals[20:].plot(figsize = (5,3))"
   ]
  },
  {
   "cell_type": "code",
   "execution_count": 18,
   "metadata": {
    "tags": []
   },
   "outputs": [
    {
     "data": {
      "image/png": "[encoded data removed]",
      "text/plain": [
       "<Figure size 216x360 with 1 Axes>"
      ]
     },
     "metadata": {},
     "output_type": "display_data"
    }
   ],
   "source": [
    "_, ax = plt.subplots(1,1, figsize = (3,5))\n",
    "_ = xgb.plot_importance(model_xgb, ax = ax, max_num_features=30, height=0.5, \n",
    "                        show_values=False, color = 'green')"
   ]
  },
  {
   "cell_type": "code",
   "execution_count": 11,
   "metadata": {},
   "outputs": [
    {
     "data": {
      "text/plain": [
       "{'mae': 0.7189640998091219,\n",
       " 'mse': 1.1193573641761427,\n",
       " 'mape': 0.015451574931622653,\n",
       " 'smape': 0.015411941934114328}"
      ]
     },
     "execution_count": 11,
     "metadata": {},
     "output_type": "execute_result"
    }
   ],
   "source": [
    "pred = model_xgb.predict(xv_)\n",
    "ts_metrics(yv, pred)"
   ]
  },
  {
   "cell_type": "code",
   "execution_count": 12,
   "metadata": {},
   "outputs": [],
   "source": [
    "# predictions\n",
    "df_out = pd.DataFrame({\n",
    "    'Target': pred\n",
    "})\n",
    "df_out.to_csv('output/valid_xgb.csv', index = False, sep = ',')\n",
    "\n",
    "df_out = pd.DataFrame({\n",
    "    'Target': model_xgb.predict(xt_)\n",
    "})\n",
    "df_out.to_csv('output/main_xgb.csv', index = False, sep = ',')"
   ]
  },
  {
   "cell_type": "code",
   "execution_count": 13,
   "metadata": {},
   "outputs": [
    {
     "name": "stdout",
     "output_type": "stream",
     "text": [
      "Working time:  0:07:09.899360\n"
     ]
    }
   ],
   "source": [
    "print('Working time: ', dt.now() - time_start) "
   ]
  }
 ],
 "metadata": {
  "kernelspec": {
   "display_name": "Python 3",
   "language": "python",
   "name": "python3"
  },
  "language_info": {
   "codemirror_mode": {
    "name": "ipython",
    "version": 3
   },
   "file_extension": ".py",
   "mimetype": "text/x-python",
   "name": "python",
   "nbconvert_exporter": "python",
   "pygments_lexer": "ipython3",
   "version": "3.8.5"
  }
 },
 "nbformat": 4,
 "nbformat_minor": 4
}
